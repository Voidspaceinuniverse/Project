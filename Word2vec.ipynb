{
  "cells": [
    {
      "cell_type": "markdown",
      "metadata": {
        "id": "view-in-github",
        "colab_type": "text"
      },
      "source": [
        "<a href=\"https://colab.research.google.com/github/Voidspaceinuniverse/Works/blob/main/Word2vec.ipynb\" target=\"_parent\"><img src=\"https://colab.research.google.com/assets/colab-badge.svg\" alt=\"Open In Colab\"/></a>"
      ]
    },
    {
      "cell_type": "markdown",
      "source": [
        "#Импорт библиотек"
      ],
      "metadata": {
        "id": "5PMzSJG-FFXu"
      }
    },
    {
      "cell_type": "code",
      "execution_count": null,
      "metadata": {
        "id": "kZm5xhxrSRDE"
      },
      "outputs": [],
      "source": [
        "%matplotlib inline\n",
        "#! pip install pymorphy2\n",
        "import matplotlib.pyplot as plt\n",
        "import numpy as np\n",
        "import pandas as pd\n",
        "import json\n",
        "from tqdm import tqdm\n",
        "from sklearn.metrics import *\n",
        "import warnings\n",
        "warnings.filterwarnings(\"ignore\")\n",
        "import os\n",
        "from sklearn.model_selection import train_test_split\n",
        "import gensim.downloader\n",
        "import nltk\n",
        "from nltk.stem.snowball import SnowballStemmer\n",
        "import re\n",
        "from sklearn.ensemble import RandomForestClassifier\n",
        "from sklearn.feature_extraction.text import TfidfVectorizer"
      ]
    },
    {
      "cell_type": "markdown",
      "source": [
        "#Загрузка датасета"
      ],
      "metadata": {
        "id": "K7IP1r9NFQ5x"
      }
    },
    {
      "cell_type": "code",
      "execution_count": null,
      "metadata": {
        "colab": {
          "base_uri": "https://localhost:8080/"
        },
        "id": "E_XBkMRAdE8-",
        "outputId": "e8d75384-7bc0-499d-c084-891d1b0cc9d8"
      },
      "outputs": [
        {
          "output_type": "execute_result",
          "data": {
            "text/plain": [
              "                                                  review sentiment\n",
              "0      One of the other reviewers has mentioned that ...  positive\n",
              "1      A wonderful little production. <br /><br />The...  positive\n",
              "2      I thought this was a wonderful way to spend ti...  positive\n",
              "3      Basically there's a family where a little boy ...  negative\n",
              "4      Petter Mattei's \"Love in the Time of Money\" is...  positive\n",
              "...                                                  ...       ...\n",
              "49995  I thought this movie did a down right good job...  positive\n",
              "49996  Bad plot, bad dialogue, bad acting, idiotic di...  negative\n",
              "49997  I am a Catholic taught in parochial elementary...  negative\n",
              "49998  I'm going to have to disagree with the previou...  negative\n",
              "49999  No one expects the Star Trek movies to be high...  negative\n",
              "\n",
              "[50000 rows x 2 columns]"
            ],
            "text/html": [
              "\n",
              "  <div id=\"df-e7dfad92-dfbb-4a4e-9757-8541fc903ee6\" class=\"colab-df-container\">\n",
              "    <div>\n",
              "<style scoped>\n",
              "    .dataframe tbody tr th:only-of-type {\n",
              "        vertical-align: middle;\n",
              "    }\n",
              "\n",
              "    .dataframe tbody tr th {\n",
              "        vertical-align: top;\n",
              "    }\n",
              "\n",
              "    .dataframe thead th {\n",
              "        text-align: right;\n",
              "    }\n",
              "</style>\n",
              "<table border=\"1\" class=\"dataframe\">\n",
              "  <thead>\n",
              "    <tr style=\"text-align: right;\">\n",
              "      <th></th>\n",
              "      <th>review</th>\n",
              "      <th>sentiment</th>\n",
              "    </tr>\n",
              "  </thead>\n",
              "  <tbody>\n",
              "    <tr>\n",
              "      <th>0</th>\n",
              "      <td>One of the other reviewers has mentioned that ...</td>\n",
              "      <td>positive</td>\n",
              "    </tr>\n",
              "    <tr>\n",
              "      <th>1</th>\n",
              "      <td>A wonderful little production. &lt;br /&gt;&lt;br /&gt;The...</td>\n",
              "      <td>positive</td>\n",
              "    </tr>\n",
              "    <tr>\n",
              "      <th>2</th>\n",
              "      <td>I thought this was a wonderful way to spend ti...</td>\n",
              "      <td>positive</td>\n",
              "    </tr>\n",
              "    <tr>\n",
              "      <th>3</th>\n",
              "      <td>Basically there's a family where a little boy ...</td>\n",
              "      <td>negative</td>\n",
              "    </tr>\n",
              "    <tr>\n",
              "      <th>4</th>\n",
              "      <td>Petter Mattei's \"Love in the Time of Money\" is...</td>\n",
              "      <td>positive</td>\n",
              "    </tr>\n",
              "    <tr>\n",
              "      <th>...</th>\n",
              "      <td>...</td>\n",
              "      <td>...</td>\n",
              "    </tr>\n",
              "    <tr>\n",
              "      <th>49995</th>\n",
              "      <td>I thought this movie did a down right good job...</td>\n",
              "      <td>positive</td>\n",
              "    </tr>\n",
              "    <tr>\n",
              "      <th>49996</th>\n",
              "      <td>Bad plot, bad dialogue, bad acting, idiotic di...</td>\n",
              "      <td>negative</td>\n",
              "    </tr>\n",
              "    <tr>\n",
              "      <th>49997</th>\n",
              "      <td>I am a Catholic taught in parochial elementary...</td>\n",
              "      <td>negative</td>\n",
              "    </tr>\n",
              "    <tr>\n",
              "      <th>49998</th>\n",
              "      <td>I'm going to have to disagree with the previou...</td>\n",
              "      <td>negative</td>\n",
              "    </tr>\n",
              "    <tr>\n",
              "      <th>49999</th>\n",
              "      <td>No one expects the Star Trek movies to be high...</td>\n",
              "      <td>negative</td>\n",
              "    </tr>\n",
              "  </tbody>\n",
              "</table>\n",
              "<p>50000 rows × 2 columns</p>\n",
              "</div>\n",
              "    <div class=\"colab-df-buttons\">\n",
              "\n",
              "  <div class=\"colab-df-container\">\n",
              "    <button class=\"colab-df-convert\" onclick=\"convertToInteractive('df-e7dfad92-dfbb-4a4e-9757-8541fc903ee6')\"\n",
              "            title=\"Convert this dataframe to an interactive table.\"\n",
              "            style=\"display:none;\">\n",
              "\n",
              "  <svg xmlns=\"http://www.w3.org/2000/svg\" height=\"24px\" viewBox=\"0 -960 960 960\">\n",
              "    <path d=\"M120-120v-720h720v720H120Zm60-500h600v-160H180v160Zm220 220h160v-160H400v160Zm0 220h160v-160H400v160ZM180-400h160v-160H180v160Zm440 0h160v-160H620v160ZM180-180h160v-160H180v160Zm440 0h160v-160H620v160Z\"/>\n",
              "  </svg>\n",
              "    </button>\n",
              "\n",
              "  <style>\n",
              "    .colab-df-container {\n",
              "      display:flex;\n",
              "      gap: 12px;\n",
              "    }\n",
              "\n",
              "    .colab-df-convert {\n",
              "      background-color: #E8F0FE;\n",
              "      border: none;\n",
              "      border-radius: 50%;\n",
              "      cursor: pointer;\n",
              "      display: none;\n",
              "      fill: #1967D2;\n",
              "      height: 32px;\n",
              "      padding: 0 0 0 0;\n",
              "      width: 32px;\n",
              "    }\n",
              "\n",
              "    .colab-df-convert:hover {\n",
              "      background-color: #E2EBFA;\n",
              "      box-shadow: 0px 1px 2px rgba(60, 64, 67, 0.3), 0px 1px 3px 1px rgba(60, 64, 67, 0.15);\n",
              "      fill: #174EA6;\n",
              "    }\n",
              "\n",
              "    .colab-df-buttons div {\n",
              "      margin-bottom: 4px;\n",
              "    }\n",
              "\n",
              "    [theme=dark] .colab-df-convert {\n",
              "      background-color: #3B4455;\n",
              "      fill: #D2E3FC;\n",
              "    }\n",
              "\n",
              "    [theme=dark] .colab-df-convert:hover {\n",
              "      background-color: #434B5C;\n",
              "      box-shadow: 0px 1px 3px 1px rgba(0, 0, 0, 0.15);\n",
              "      filter: drop-shadow(0px 1px 2px rgba(0, 0, 0, 0.3));\n",
              "      fill: #FFFFFF;\n",
              "    }\n",
              "  </style>\n",
              "\n",
              "    <script>\n",
              "      const buttonEl =\n",
              "        document.querySelector('#df-e7dfad92-dfbb-4a4e-9757-8541fc903ee6 button.colab-df-convert');\n",
              "      buttonEl.style.display =\n",
              "        google.colab.kernel.accessAllowed ? 'block' : 'none';\n",
              "\n",
              "      async function convertToInteractive(key) {\n",
              "        const element = document.querySelector('#df-e7dfad92-dfbb-4a4e-9757-8541fc903ee6');\n",
              "        const dataTable =\n",
              "          await google.colab.kernel.invokeFunction('convertToInteractive',\n",
              "                                                    [key], {});\n",
              "        if (!dataTable) return;\n",
              "\n",
              "        const docLinkHtml = 'Like what you see? Visit the ' +\n",
              "          '<a target=\"_blank\" href=https://colab.research.google.com/notebooks/data_table.ipynb>data table notebook</a>'\n",
              "          + ' to learn more about interactive tables.';\n",
              "        element.innerHTML = '';\n",
              "        dataTable['output_type'] = 'display_data';\n",
              "        await google.colab.output.renderOutput(dataTable, element);\n",
              "        const docLink = document.createElement('div');\n",
              "        docLink.innerHTML = docLinkHtml;\n",
              "        element.appendChild(docLink);\n",
              "      }\n",
              "    </script>\n",
              "  </div>\n",
              "\n",
              "\n",
              "<div id=\"df-22ebdbd9-00e7-42a9-adbd-e40692bb9d8b\">\n",
              "  <button class=\"colab-df-quickchart\" onclick=\"quickchart('df-22ebdbd9-00e7-42a9-adbd-e40692bb9d8b')\"\n",
              "            title=\"Suggest charts\"\n",
              "            style=\"display:none;\">\n",
              "\n",
              "<svg xmlns=\"http://www.w3.org/2000/svg\" height=\"24px\"viewBox=\"0 0 24 24\"\n",
              "     width=\"24px\">\n",
              "    <g>\n",
              "        <path d=\"M19 3H5c-1.1 0-2 .9-2 2v14c0 1.1.9 2 2 2h14c1.1 0 2-.9 2-2V5c0-1.1-.9-2-2-2zM9 17H7v-7h2v7zm4 0h-2V7h2v10zm4 0h-2v-4h2v4z\"/>\n",
              "    </g>\n",
              "</svg>\n",
              "  </button>\n",
              "\n",
              "<style>\n",
              "  .colab-df-quickchart {\n",
              "      --bg-color: #E8F0FE;\n",
              "      --fill-color: #1967D2;\n",
              "      --hover-bg-color: #E2EBFA;\n",
              "      --hover-fill-color: #174EA6;\n",
              "      --disabled-fill-color: #AAA;\n",
              "      --disabled-bg-color: #DDD;\n",
              "  }\n",
              "\n",
              "  [theme=dark] .colab-df-quickchart {\n",
              "      --bg-color: #3B4455;\n",
              "      --fill-color: #D2E3FC;\n",
              "      --hover-bg-color: #434B5C;\n",
              "      --hover-fill-color: #FFFFFF;\n",
              "      --disabled-bg-color: #3B4455;\n",
              "      --disabled-fill-color: #666;\n",
              "  }\n",
              "\n",
              "  .colab-df-quickchart {\n",
              "    background-color: var(--bg-color);\n",
              "    border: none;\n",
              "    border-radius: 50%;\n",
              "    cursor: pointer;\n",
              "    display: none;\n",
              "    fill: var(--fill-color);\n",
              "    height: 32px;\n",
              "    padding: 0;\n",
              "    width: 32px;\n",
              "  }\n",
              "\n",
              "  .colab-df-quickchart:hover {\n",
              "    background-color: var(--hover-bg-color);\n",
              "    box-shadow: 0 1px 2px rgba(60, 64, 67, 0.3), 0 1px 3px 1px rgba(60, 64, 67, 0.15);\n",
              "    fill: var(--button-hover-fill-color);\n",
              "  }\n",
              "\n",
              "  .colab-df-quickchart-complete:disabled,\n",
              "  .colab-df-quickchart-complete:disabled:hover {\n",
              "    background-color: var(--disabled-bg-color);\n",
              "    fill: var(--disabled-fill-color);\n",
              "    box-shadow: none;\n",
              "  }\n",
              "\n",
              "  .colab-df-spinner {\n",
              "    border: 2px solid var(--fill-color);\n",
              "    border-color: transparent;\n",
              "    border-bottom-color: var(--fill-color);\n",
              "    animation:\n",
              "      spin 1s steps(1) infinite;\n",
              "  }\n",
              "\n",
              "  @keyframes spin {\n",
              "    0% {\n",
              "      border-color: transparent;\n",
              "      border-bottom-color: var(--fill-color);\n",
              "      border-left-color: var(--fill-color);\n",
              "    }\n",
              "    20% {\n",
              "      border-color: transparent;\n",
              "      border-left-color: var(--fill-color);\n",
              "      border-top-color: var(--fill-color);\n",
              "    }\n",
              "    30% {\n",
              "      border-color: transparent;\n",
              "      border-left-color: var(--fill-color);\n",
              "      border-top-color: var(--fill-color);\n",
              "      border-right-color: var(--fill-color);\n",
              "    }\n",
              "    40% {\n",
              "      border-color: transparent;\n",
              "      border-right-color: var(--fill-color);\n",
              "      border-top-color: var(--fill-color);\n",
              "    }\n",
              "    60% {\n",
              "      border-color: transparent;\n",
              "      border-right-color: var(--fill-color);\n",
              "    }\n",
              "    80% {\n",
              "      border-color: transparent;\n",
              "      border-right-color: var(--fill-color);\n",
              "      border-bottom-color: var(--fill-color);\n",
              "    }\n",
              "    90% {\n",
              "      border-color: transparent;\n",
              "      border-bottom-color: var(--fill-color);\n",
              "    }\n",
              "  }\n",
              "</style>\n",
              "\n",
              "  <script>\n",
              "    async function quickchart(key) {\n",
              "      const quickchartButtonEl =\n",
              "        document.querySelector('#' + key + ' button');\n",
              "      quickchartButtonEl.disabled = true;  // To prevent multiple clicks.\n",
              "      quickchartButtonEl.classList.add('colab-df-spinner');\n",
              "      try {\n",
              "        const charts = await google.colab.kernel.invokeFunction(\n",
              "            'suggestCharts', [key], {});\n",
              "      } catch (error) {\n",
              "        console.error('Error during call to suggestCharts:', error);\n",
              "      }\n",
              "      quickchartButtonEl.classList.remove('colab-df-spinner');\n",
              "      quickchartButtonEl.classList.add('colab-df-quickchart-complete');\n",
              "    }\n",
              "    (() => {\n",
              "      let quickchartButtonEl =\n",
              "        document.querySelector('#df-22ebdbd9-00e7-42a9-adbd-e40692bb9d8b button');\n",
              "      quickchartButtonEl.style.display =\n",
              "        google.colab.kernel.accessAllowed ? 'block' : 'none';\n",
              "    })();\n",
              "  </script>\n",
              "</div>\n",
              "    </div>\n",
              "  </div>\n"
            ]
          },
          "metadata": {},
          "execution_count": 2
        }
      ],
      "source": [
        "os.chdir('/content/drive/MyDrive/Colab Notebooks/NLP Course/')\n",
        "pd.set_option('display.max_columns', None)\n",
        "df = pd.read_csv('IMDB Dataset.csv', sep=',')\n",
        "df"
      ]
    },
    {
      "cell_type": "markdown",
      "source": [
        "#Подготовка данных"
      ],
      "metadata": {
        "id": "5NJw3J47FWjU"
      }
    },
    {
      "cell_type": "code",
      "execution_count": null,
      "metadata": {
        "id": "ZO7Q54QseFuY"
      },
      "outputs": [],
      "source": [
        "X = df['review']\n",
        "Y = df['sentiment']"
      ]
    },
    {
      "cell_type": "code",
      "execution_count": null,
      "metadata": {
        "colab": {
          "base_uri": "https://localhost:8080/"
        },
        "id": "gnJ0aV8qRTpx",
        "outputId": "3a07d09b-b538-4282-eaaa-ba79fb2a0777"
      },
      "outputs": [
        {
          "output_type": "stream",
          "name": "stderr",
          "text": [
            "[nltk_data] Downloading package stopwords to /root/nltk_data...\n",
            "[nltk_data]   Unzipping corpora/stopwords.zip.\n"
          ]
        }
      ],
      "source": [
        "# токенизация\n",
        "\n",
        "import nltk\n",
        "nltk.download('stopwords')\n",
        "stop_words = nltk.corpus.stopwords.words('english')\n",
        "stop_words = stop_words + ['director', 'screenwriter', 'starring', 'movies', 'movie']\n",
        "word_tokenizer = nltk.WordPunctTokenizer()\n",
        "\n",
        "import re\n",
        "regex = re.compile(r'[А-Яа-яA-zёЁ-]+')"
      ]
    },
    {
      "cell_type": "code",
      "execution_count": null,
      "metadata": {
        "id": "W25olFzSRfN0"
      },
      "outputs": [],
      "source": [
        "def words_only(text, regex=regex):\n",
        "    try:\n",
        "        return \" \".join(regex.findall(text)).lower()\n",
        "    except:\n",
        "        return \"\"\n",
        "\n",
        "def process_data(data):\n",
        "    texts = []\n",
        "\n",
        "    for item in tqdm(data):\n",
        "\n",
        "        text_lower = words_only(item)\n",
        "        tokens = word_tokenizer.tokenize(text_lower)\n",
        "        tokens = [word for word in tokens if (word not in stop_words and not word.isnumeric())]\n",
        "        texts.append(tokens)\n",
        "\n",
        "    return texts"
      ]
    },
    {
      "cell_type": "code",
      "execution_count": null,
      "metadata": {
        "colab": {
          "base_uri": "https://localhost:8080/"
        },
        "id": "ZHtDQAYqR9WW",
        "outputId": "0f2c736c-2a7c-4e4a-9b9e-e10c861ee292"
      },
      "outputs": [
        {
          "output_type": "stream",
          "name": "stderr",
          "text": [
            "100%|██████████| 50000/50000 [00:27<00:00, 1812.52it/s]\n"
          ]
        }
      ],
      "source": [
        "texts = process_data(X)"
      ]
    },
    {
      "cell_type": "code",
      "execution_count": null,
      "metadata": {
        "id": "2dvr2SsWSzzl"
      },
      "outputs": [],
      "source": [
        "texts[:2]"
      ]
    },
    {
      "cell_type": "code",
      "execution_count": null,
      "metadata": {
        "colab": {
          "base_uri": "https://localhost:8080/"
        },
        "id": "9ERPPBaTaIHy",
        "outputId": "660aea4b-e0c9-4c5e-e7bd-d8f84ae6b2e3"
      },
      "outputs": [
        {
          "output_type": "stream",
          "name": "stderr",
          "text": [
            "100%|██████████| 50000/50000 [00:55<00:00, 898.27it/s] \n"
          ]
        }
      ],
      "source": [
        "# стемминг\n",
        "\n",
        "from nltk.stem.snowball import SnowballStemmer\n",
        "stemmer = SnowballStemmer(\"english\")\n",
        "for i in tqdm(range(len(texts))):\n",
        "    text_stem = [stemmer.stem(x) for x in texts[i]]\n",
        "    texts[i] = ' '.join(text_stem)"
      ]
    },
    {
      "cell_type": "code",
      "execution_count": null,
      "metadata": {
        "id": "zceMTWsKbeSF"
      },
      "outputs": [],
      "source": [
        "texts[:2]"
      ]
    },
    {
      "cell_type": "code",
      "execution_count": null,
      "metadata": {
        "id": "z-Uf344ScGsO"
      },
      "outputs": [],
      "source": [
        "# кодировка таргета\n",
        "\n",
        "def label2num(y):\n",
        "    if y == 'positive':\n",
        "        return 1\n",
        "    if y == 'negative':\n",
        "        return 0\n",
        "\n",
        "encoded_y = [label2num(y) for y in Y]"
      ]
    },
    {
      "cell_type": "markdown",
      "source": [
        "#Разбиение на Train/Test"
      ],
      "metadata": {
        "id": "3OyzeI5rGL_O"
      }
    },
    {
      "cell_type": "code",
      "execution_count": null,
      "metadata": {
        "id": "-3TiA8mSce15"
      },
      "outputs": [],
      "source": [
        "X = texts\n",
        "Y = encoded_y\n",
        "X_train, X_test, Y_train, Y_test = train_test_split(X, Y, stratify = Y, test_size = 0.3, random_state = 42)"
      ]
    },
    {
      "cell_type": "markdown",
      "source": [
        "#Предобработка текста при помощи tf-idf"
      ],
      "metadata": {
        "id": "EMINF2saGYst"
      }
    },
    {
      "cell_type": "code",
      "source": [
        "vectorizer = TfidfVectorizer(max_features = 2500, norm = None, max_df=1.00, min_df=1, ngram_range=(1, 1))\n",
        "\n",
        "train_X = vectorizer.fit_transform(X_train)\n",
        "test_X  = vectorizer.transform(X_test)"
      ],
      "metadata": {
        "id": "daQk279qGalh"
      },
      "execution_count": null,
      "outputs": []
    },
    {
      "cell_type": "markdown",
      "source": [
        "#Обучение модели на tf-idf векторах"
      ],
      "metadata": {
        "id": "o693MOI4Gd6g"
      }
    },
    {
      "cell_type": "code",
      "execution_count": null,
      "metadata": {
        "colab": {
          "base_uri": "https://localhost:8080/"
        },
        "id": "YqpUSs2f6QNv",
        "outputId": "170180e0-1f09-4610-c4a4-9994ff10aebd"
      },
      "outputs": [
        {
          "output_type": "stream",
          "name": "stdout",
          "text": [
            "Accuracy:  0.8281333333333334\n",
            "F1:  0.8277275482530371\n"
          ]
        }
      ],
      "source": [
        "clf = RandomForestClassifier(n_estimators = 1500, max_depth = 10)\n",
        "clf = clf.fit(train_X, Y_train)\n",
        "pred = clf.predict(test_X)\n",
        "\n",
        "print('Accuracy: ', accuracy_score(Y_test, pred))\n",
        "print('F1: ', f1_score(Y_test, pred, average = 'macro'))"
      ]
    },
    {
      "cell_type": "markdown",
      "source": [
        "#Подбор оптимальной комбинации гиперпараметров с помощью Optune"
      ],
      "metadata": {
        "id": "G4Ue5NH-G3Ge"
      }
    },
    {
      "cell_type": "code",
      "execution_count": null,
      "metadata": {
        "colab": {
          "base_uri": "https://localhost:8080/"
        },
        "id": "BikuqCYMfF_b",
        "outputId": "f47547c6-9de1-40ac-a350-0132fde830e3"
      },
      "outputs": [
        {
          "name": "stdout",
          "output_type": "stream",
          "text": [
            "\u001b[2K     \u001b[90m━━━━━━━━━━━━━━━━━━━━━━━━━━━━━━━━━━━━━━━━\u001b[0m \u001b[32m409.6/409.6 kB\u001b[0m \u001b[31m4.4 MB/s\u001b[0m eta \u001b[36m0:00:00\u001b[0m\n",
            "\u001b[2K     \u001b[90m━━━━━━━━━━━━━━━━━━━━━━━━━━━━━━━━━━━━━━━━\u001b[0m \u001b[32m226.8/226.8 kB\u001b[0m \u001b[31m7.1 MB/s\u001b[0m eta \u001b[36m0:00:00\u001b[0m\n",
            "\u001b[2K     \u001b[90m━━━━━━━━━━━━━━━━━━━━━━━━━━━━━━━━━━━━━━━━\u001b[0m \u001b[32m78.6/78.6 kB\u001b[0m \u001b[31m6.9 MB/s\u001b[0m eta \u001b[36m0:00:00\u001b[0m\n",
            "\u001b[?25h"
          ]
        }
      ],
      "source": [
        "! pip install optuna -q\n",
        "import optuna"
      ]
    },
    {
      "cell_type": "code",
      "execution_count": null,
      "metadata": {
        "id": "ogNJyrAhfNXd"
      },
      "outputs": [],
      "source": [
        "def optuna_optimize(trial):\n",
        "    criterion = trial.suggest_categorical('criterion', ['gini','entropy','log_loss'])\n",
        "    n_estimators = trial.suggest_int('n_estimators', 1000, 1600, 25)\n",
        "    max_depth = trial.suggest_int('max_depth', 3, 25, 1)\n",
        "    min_samples_split = trial.suggest_int('min_samples_split', 20, 100, 5)\n",
        "    max_leaf_nodes = trial.suggest_int('max_leaf_nodes', 80, 150, 5)\n",
        "    min_samples_leaf = trial.suggest_int('min_samples_leaf', 20, 100, 5)\n",
        "    max_features = trial.suggest_categorical('max_features', ['sqrt', 'log2', None])\n",
        "    bootstrap = trial.suggest_categorical('bootstrap', [True, False])\n",
        "\n",
        "    model = RandomForestClassifier(\n",
        "                                  criterion=criterion,\n",
        "                                  n_estimators=n_estimators,\n",
        "                                  max_depth=max_depth,\n",
        "                                  min_samples_split=min_samples_split,\n",
        "                                  max_leaf_nodes=max_leaf_nodes,\n",
        "                                  min_samples_leaf=min_samples_leaf,\n",
        "                                  bootstrap=bootstrap,\n",
        "                                  max_features=max_features\n",
        "    )\n",
        "    model.fit(train_X, Y_train)\n",
        "    score = f1_score(Y_test, model.predict(test_X), average='macro')\n",
        "    return score"
      ]
    },
    {
      "cell_type": "code",
      "execution_count": null,
      "metadata": {
        "id": "U9eY6lGMfQIb"
      },
      "outputs": [],
      "source": [
        "%%time\n",
        "study_RandomForestClassifier = optuna.create_study(study_name=\"RandomForestClassifier Optuna Optimization\",  direction=\"maximize\")\n",
        "study_RandomForestClassifier.optimize(optuna_optimize, n_trials=20)\n",
        "print(\"Наилучшие значения гиперпараметров {}\".format(study_RandomForestClassifier.best_params))\n",
        "print(\"f1_score_macro на обучающем наборе: {:.2f}\".format(study_RandomForestClassifier.best_value))"
      ]
    },
    {
      "cell_type": "code",
      "execution_count": null,
      "metadata": {
        "id": "yWf3FfPzfV0L"
      },
      "outputs": [],
      "source": [
        "model = RandomForestClassifier(\n",
        "                                  criterion='entropy',\n",
        "                                  n_estimators=1300,\n",
        "                                  max_depth=25,\n",
        "                                  min_samples_split=50,\n",
        "                                  max_leaf_nodes=140,\n",
        "                                  min_samples_leaf=20,\n",
        "                                  max_features='log2',\n",
        "                                  bootstrap=False,\n",
        "                               )\n",
        "\n",
        "model.fit(train_X,Y_train)\n",
        "predictions_val = model.predict(test_X)\n",
        "print(classification_report(Y_test, predictions_val))\n",
        "print(confusion_matrix(Y_test, predictions_val))\n",
        "\n",
        "predictions_train = model.predict(train_X)\n",
        "print(classification_report(Y_train, predictions_train))\n",
        "print(confusion_matrix(Y_train, predictions_train))"
      ]
    },
    {
      "cell_type": "markdown",
      "source": [
        "#Векторизация текста с помощью метода word2vec"
      ],
      "metadata": {
        "id": "dGQIEiE3HGE3"
      }
    },
    {
      "cell_type": "code",
      "execution_count": null,
      "metadata": {
        "colab": {
          "base_uri": "https://localhost:8080/"
        },
        "id": "7KcyIv0XkID-",
        "outputId": "c7b4e788-d3c0-4416-c72a-35d32a86f0b4"
      },
      "outputs": [
        {
          "output_type": "stream",
          "name": "stdout",
          "text": [
            "[==================================================] 100.0% 1662.8/1662.8MB downloaded\n"
          ]
        }
      ],
      "source": [
        "import gensim.downloader\n",
        "word2vec_eng = gensim.downloader.load('word2vec-google-news-300')\n",
        "word2vec_eng.save('word2vec-google-news-300.model')"
      ]
    },
    {
      "cell_type": "code",
      "source": [
        "from gensim.models import Word2Vec\n",
        "model = Word2Vec.load('word2vec-google-news-300.model')"
      ],
      "metadata": {
        "colab": {
          "base_uri": "https://localhost:8080/",
          "height": 338
        },
        "id": "FMcTahD9YlWn",
        "outputId": "42f20a9b-703c-428c-cb07-95ff67df21d5"
      },
      "execution_count": null,
      "outputs": [
        {
          "output_type": "error",
          "ename": "UnpicklingError",
          "evalue": "pickle data was truncated",
          "traceback": [
            "\u001b[0;31m---------------------------------------------------------------------------\u001b[0m",
            "\u001b[0;31mUnpicklingError\u001b[0m                           Traceback (most recent call last)",
            "\u001b[0;32m<ipython-input-3-f68f0f155189>\u001b[0m in \u001b[0;36m<cell line: 2>\u001b[0;34m()\u001b[0m\n\u001b[1;32m      1\u001b[0m \u001b[0;32mfrom\u001b[0m \u001b[0mgensim\u001b[0m\u001b[0;34m.\u001b[0m\u001b[0mmodels\u001b[0m \u001b[0;32mimport\u001b[0m \u001b[0mWord2Vec\u001b[0m\u001b[0;34m\u001b[0m\u001b[0;34m\u001b[0m\u001b[0m\n\u001b[0;32m----> 2\u001b[0;31m \u001b[0mmodel\u001b[0m \u001b[0;34m=\u001b[0m \u001b[0mWord2Vec\u001b[0m\u001b[0;34m.\u001b[0m\u001b[0mload\u001b[0m\u001b[0;34m(\u001b[0m\u001b[0;34m'word2vec-google-news-300.model'\u001b[0m\u001b[0;34m)\u001b[0m\u001b[0;34m\u001b[0m\u001b[0;34m\u001b[0m\u001b[0m\n\u001b[0m",
            "\u001b[0;32m/usr/local/lib/python3.10/dist-packages/gensim/models/word2vec.py\u001b[0m in \u001b[0;36mload\u001b[0;34m(cls, rethrow, *args, **kwargs)\u001b[0m\n\u001b[1;32m   1951\u001b[0m         \"\"\"\n\u001b[1;32m   1952\u001b[0m         \u001b[0;32mtry\u001b[0m\u001b[0;34m:\u001b[0m\u001b[0;34m\u001b[0m\u001b[0;34m\u001b[0m\u001b[0m\n\u001b[0;32m-> 1953\u001b[0;31m             \u001b[0mmodel\u001b[0m \u001b[0;34m=\u001b[0m \u001b[0msuper\u001b[0m\u001b[0;34m(\u001b[0m\u001b[0mWord2Vec\u001b[0m\u001b[0;34m,\u001b[0m \u001b[0mcls\u001b[0m\u001b[0;34m)\u001b[0m\u001b[0;34m.\u001b[0m\u001b[0mload\u001b[0m\u001b[0;34m(\u001b[0m\u001b[0;34m*\u001b[0m\u001b[0margs\u001b[0m\u001b[0;34m,\u001b[0m \u001b[0;34m**\u001b[0m\u001b[0mkwargs\u001b[0m\u001b[0;34m)\u001b[0m\u001b[0;34m\u001b[0m\u001b[0;34m\u001b[0m\u001b[0m\n\u001b[0m\u001b[1;32m   1954\u001b[0m             \u001b[0;32mif\u001b[0m \u001b[0;32mnot\u001b[0m \u001b[0misinstance\u001b[0m\u001b[0;34m(\u001b[0m\u001b[0mmodel\u001b[0m\u001b[0;34m,\u001b[0m \u001b[0mWord2Vec\u001b[0m\u001b[0;34m)\u001b[0m\u001b[0;34m:\u001b[0m\u001b[0;34m\u001b[0m\u001b[0;34m\u001b[0m\u001b[0m\n\u001b[1;32m   1955\u001b[0m                 \u001b[0mrethrow\u001b[0m \u001b[0;34m=\u001b[0m \u001b[0;32mTrue\u001b[0m\u001b[0;34m\u001b[0m\u001b[0;34m\u001b[0m\u001b[0m\n",
            "\u001b[0;32m/usr/local/lib/python3.10/dist-packages/gensim/utils.py\u001b[0m in \u001b[0;36mload\u001b[0;34m(cls, fname, mmap)\u001b[0m\n\u001b[1;32m    484\u001b[0m         \u001b[0mcompress\u001b[0m\u001b[0;34m,\u001b[0m \u001b[0msubname\u001b[0m \u001b[0;34m=\u001b[0m \u001b[0mSaveLoad\u001b[0m\u001b[0;34m.\u001b[0m\u001b[0m_adapt_by_suffix\u001b[0m\u001b[0;34m(\u001b[0m\u001b[0mfname\u001b[0m\u001b[0;34m)\u001b[0m\u001b[0;34m\u001b[0m\u001b[0;34m\u001b[0m\u001b[0m\n\u001b[1;32m    485\u001b[0m \u001b[0;34m\u001b[0m\u001b[0m\n\u001b[0;32m--> 486\u001b[0;31m         \u001b[0mobj\u001b[0m \u001b[0;34m=\u001b[0m \u001b[0munpickle\u001b[0m\u001b[0;34m(\u001b[0m\u001b[0mfname\u001b[0m\u001b[0;34m)\u001b[0m\u001b[0;34m\u001b[0m\u001b[0;34m\u001b[0m\u001b[0m\n\u001b[0m\u001b[1;32m    487\u001b[0m         \u001b[0mobj\u001b[0m\u001b[0;34m.\u001b[0m\u001b[0m_load_specials\u001b[0m\u001b[0;34m(\u001b[0m\u001b[0mfname\u001b[0m\u001b[0;34m,\u001b[0m \u001b[0mmmap\u001b[0m\u001b[0;34m,\u001b[0m \u001b[0mcompress\u001b[0m\u001b[0;34m,\u001b[0m \u001b[0msubname\u001b[0m\u001b[0;34m)\u001b[0m\u001b[0;34m\u001b[0m\u001b[0;34m\u001b[0m\u001b[0m\n\u001b[1;32m    488\u001b[0m         \u001b[0mobj\u001b[0m\u001b[0;34m.\u001b[0m\u001b[0madd_lifecycle_event\u001b[0m\u001b[0;34m(\u001b[0m\u001b[0;34m\"loaded\"\u001b[0m\u001b[0;34m,\u001b[0m \u001b[0mfname\u001b[0m\u001b[0;34m=\u001b[0m\u001b[0mfname\u001b[0m\u001b[0;34m)\u001b[0m\u001b[0;34m\u001b[0m\u001b[0;34m\u001b[0m\u001b[0m\n",
            "\u001b[0;32m/usr/local/lib/python3.10/dist-packages/gensim/utils.py\u001b[0m in \u001b[0;36munpickle\u001b[0;34m(fname)\u001b[0m\n\u001b[1;32m   1459\u001b[0m     \"\"\"\n\u001b[1;32m   1460\u001b[0m     \u001b[0;32mwith\u001b[0m \u001b[0mopen\u001b[0m\u001b[0;34m(\u001b[0m\u001b[0mfname\u001b[0m\u001b[0;34m,\u001b[0m \u001b[0;34m'rb'\u001b[0m\u001b[0;34m)\u001b[0m \u001b[0;32mas\u001b[0m \u001b[0mf\u001b[0m\u001b[0;34m:\u001b[0m\u001b[0;34m\u001b[0m\u001b[0;34m\u001b[0m\u001b[0m\n\u001b[0;32m-> 1461\u001b[0;31m         \u001b[0;32mreturn\u001b[0m \u001b[0m_pickle\u001b[0m\u001b[0;34m.\u001b[0m\u001b[0mload\u001b[0m\u001b[0;34m(\u001b[0m\u001b[0mf\u001b[0m\u001b[0;34m,\u001b[0m \u001b[0mencoding\u001b[0m\u001b[0;34m=\u001b[0m\u001b[0;34m'latin1'\u001b[0m\u001b[0;34m)\u001b[0m  \u001b[0;31m# needed because loading from S3 doesn't support readline()\u001b[0m\u001b[0;34m\u001b[0m\u001b[0;34m\u001b[0m\u001b[0m\n\u001b[0m\u001b[1;32m   1462\u001b[0m \u001b[0;34m\u001b[0m\u001b[0m\n\u001b[1;32m   1463\u001b[0m \u001b[0;34m\u001b[0m\u001b[0m\n",
            "\u001b[0;31mUnpicklingError\u001b[0m: pickle data was truncated"
          ]
        }
      ]
    },
    {
      "cell_type": "code",
      "execution_count": null,
      "metadata": {
        "colab": {
          "base_uri": "https://localhost:8080/"
        },
        "id": "poRw7leldz7Y",
        "outputId": "ec244e98-90c8-4237-d876-2077ee7984f6"
      },
      "outputs": [
        {
          "output_type": "stream",
          "name": "stderr",
          "text": [
            "[nltk_data] Downloading package stopwords to /root/nltk_data...\n",
            "[nltk_data]   Package stopwords is already up-to-date!\n",
            "100%|██████████| 50000/50000 [00:22<00:00, 2255.71it/s]\n",
            "100%|██████████| 50000/50000 [00:56<00:00, 887.96it/s]\n"
          ]
        }
      ],
      "source": [
        "X = df['review']\n",
        "Y = df['sentiment']\n",
        "\n",
        "# токенизация\n",
        "nltk.download('stopwords')\n",
        "stop_words = nltk.corpus.stopwords.words('english')\n",
        "stop_words = stop_words + ['director', 'screenwriter', 'starring', 'movies', 'movie']\n",
        "word_tokenizer = nltk.WordPunctTokenizer()\n",
        "\n",
        "regex = re.compile(r'[А-Яа-яA-zёЁ-]+')\n",
        "texts = process_data(X)\n",
        "\n",
        "# стемминг\n",
        "stemmer = SnowballStemmer(\"english\")\n",
        "for i in tqdm(range(len(texts))):\n",
        "    text_stem = [stemmer.stem(x) for x in texts[i]]\n",
        "    texts[i] = ' '.join(text_stem)\n",
        "\n",
        "# кодировка таргета\n",
        "def label2num(y):\n",
        "    if y == 'positive':\n",
        "        return 1\n",
        "    if y == 'negative':\n",
        "        return 0\n",
        "\n",
        "encoded_y = [label2num(y) for y in Y]"
      ]
    },
    {
      "cell_type": "code",
      "execution_count": null,
      "metadata": {
        "id": "SbojkeOVdz7k"
      },
      "outputs": [],
      "source": [
        "X = texts\n",
        "Y = encoded_y\n",
        "X_train, X_test, Y_train, Y_test = train_test_split(X, Y, stratify = Y, test_size = 0.3, random_state = 42)\n",
        "\n",
        "vectorizer = TfidfVectorizer(max_features = 2500, norm = None, max_df=1.00, min_df=1, ngram_range=(1, 1))\n",
        "vectorizer.fit_transform(X_train)\n",
        "tfidf_feature_names = vectorizer.get_feature_names_out()"
      ]
    },
    {
      "cell_type": "code",
      "source": [
        "def vectorize_with_tfidf_weights(sentence, model, tfidf_vectorizer, tfidf_feature_names):\n",
        "    words = sentence.split()\n",
        "    vector = np.zeros(model.vector_size)\n",
        "    for word in words:\n",
        "        if word in model and word in tfidf_feature_names:\n",
        "            tfidf_weight = tfidf_vectorizer.idf_[tfidf_vectorizer.vocabulary_[word]]\n",
        "            vector += model[word] * tfidf_weight\n",
        "    return vector"
      ],
      "metadata": {
        "id": "q0fIxaAIeX8B"
      },
      "execution_count": null,
      "outputs": []
    },
    {
      "cell_type": "code",
      "source": [
        "#####tfidf_weight = tfidf_vectorizer.vocabulary_[word]"
      ],
      "metadata": {
        "id": "Ix96KD5GSsKa"
      },
      "execution_count": null,
      "outputs": []
    },
    {
      "cell_type": "code",
      "source": [
        "train_X = [vectorize_with_tfidf_weights(sentence, word2vec_eng, vectorizer, tfidf_feature_names) for sentence in tqdm(X_train)]\n",
        "test_X = [vectorize_with_tfidf_weights(sentence, word2vec_eng, vectorizer, tfidf_feature_names) for sentence in tqdm(X_test)]"
      ],
      "metadata": {
        "colab": {
          "base_uri": "https://localhost:8080/"
        },
        "id": "mlghRT2VilpN",
        "outputId": "eb81a497-d88d-4c3f-e0c0-b1d3c3ef0029"
      },
      "execution_count": null,
      "outputs": [
        {
          "output_type": "stream",
          "name": "stderr",
          "text": [
            "100%|██████████| 35000/35000 [10:40<00:00, 54.66it/s]\n",
            "100%|██████████| 15000/15000 [04:31<00:00, 55.31it/s]\n"
          ]
        }
      ]
    },
    {
      "cell_type": "code",
      "source": [
        "model = RandomForestClassifier(n_estimators = 1500, max_depth = 10)\n",
        "model.fit(train_X, Y_train)\n",
        "pred = model.predict(test_X)\n",
        "\n",
        "print('Accuracy: ', accuracy_score(Y_test, pred))\n",
        "print('F1: ', f1_score(Y_test, pred, average = 'macro'))"
      ],
      "metadata": {
        "colab": {
          "base_uri": "https://localhost:8080/"
        },
        "id": "x9RZskkAeX8C",
        "outputId": "aa3008d1-684f-496c-a59a-6803cf68691f"
      },
      "execution_count": null,
      "outputs": [
        {
          "output_type": "stream",
          "name": "stdout",
          "text": [
            "Accuracy:  0.7420666666666667\n",
            "F1:  0.7420530459210605\n"
          ]
        }
      ]
    },
    {
      "cell_type": "code",
      "source": [
        "print(classification_report(Y_test, pred))\n",
        "print(confusion_matrix(Y_test, pred))"
      ],
      "metadata": {
        "colab": {
          "base_uri": "https://localhost:8080/"
        },
        "id": "aeDj9YESlEdE",
        "outputId": "f6a2105e-f914-4be7-c7f1-3027b155bd8a"
      },
      "execution_count": null,
      "outputs": [
        {
          "output_type": "stream",
          "name": "stdout",
          "text": [
            "              precision    recall  f1-score   support\n",
            "\n",
            "           0       0.75      0.73      0.74      7500\n",
            "           1       0.74      0.75      0.74      7500\n",
            "\n",
            "    accuracy                           0.74     15000\n",
            "   macro avg       0.74      0.74      0.74     15000\n",
            "weighted avg       0.74      0.74      0.74     15000\n",
            "\n",
            "[[5511 1989]\n",
            " [1880 5620]]\n"
          ]
        }
      ]
    }
  ],
  "metadata": {
    "colab": {
      "provenance": [],
      "collapsed_sections": [
        "K7IP1r9NFQ5x",
        "5NJw3J47FWjU",
        "3OyzeI5rGL_O",
        "EMINF2saGYst"
      ],
      "mount_file_id": "1bKixO8QqprS6QzRBGfWtJNhL6ZQmXTmd",
      "authorship_tag": "ABX9TyNNPRg4A+8jblxQjQ6lx/t3",
      "include_colab_link": true
    },
    "kernelspec": {
      "display_name": "Python 3",
      "name": "python3"
    },
    "language_info": {
      "name": "python"
    }
  },
  "nbformat": 4,
  "nbformat_minor": 0
}